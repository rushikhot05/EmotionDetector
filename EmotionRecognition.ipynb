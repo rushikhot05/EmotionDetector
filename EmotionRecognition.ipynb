{
 "cells": [
  {
   "cell_type": "code",
   "execution_count": 15,
   "metadata": {},
   "outputs": [
    {
     "name": "stderr",
     "output_type": "stream",
     "text": [
      "/home/sherlock/.local/lib/python3.6/site-packages/ipykernel_launcher.py:21: FutureWarning: Method .as_matrix will be removed in a future version. Use .values instead.\n"
     ]
    }
   ],
   "source": [
    "import pandas as pd\n",
    "import cv2\n",
    "import numpy as np\n",
    "from sklearn.model_selection import train_test_split\n",
    " \n",
    "dataset_path = 'fer2013.csv'\n",
    "image_size=(48,48)\n",
    " \n",
    "def load_fer2013():\n",
    "    data = pd.read_csv(dataset_path)\n",
    "    pixels = data['pixels'].tolist()\n",
    "    width, height = 48, 48\n",
    "    faces = []\n",
    "    for pixel_sequence in pixels:\n",
    "        face = [int(pixel) for pixel in pixel_sequence.split(' ')]\n",
    "        face = np.asarray(face).reshape(width, height)\n",
    "        face = cv2.resize(face.astype('uint8'),image_size)\n",
    "        faces.append(face.astype('float32'))\n",
    "    faces = np.asarray(faces)\n",
    "    faces = np.expand_dims(faces, -1)\n",
    "    emotions = pd.get_dummies(data['emotion']).as_matrix()\n",
    "    return faces, emotions\n",
    " \n",
    "def preprocess_input(x, v2=True):\n",
    "    x = x.astype('float32')\n",
    "    x = x / 255.0\n",
    "    if v2:\n",
    "        x = x - 0.5\n",
    "        x = x * 2.0\n",
    "    return x\n",
    " \n",
    "faces, emotions = load_fer2013()\n",
    "faces = preprocess_input(faces)\n",
    "xtrain, xtest,ytrain,ytest = train_test_split(faces, emotions,test_size=0.2,shuffle=True)"
   ]
  },
  {
   "cell_type": "code",
   "execution_count": 16,
   "metadata": {},
   "outputs": [],
   "source": [
    "from keras.callbacks import CSVLogger, ModelCheckpoint, EarlyStopping\n",
    "from keras.callbacks import ReduceLROnPlateau\n",
    "from keras.preprocessing.image import ImageDataGenerator\n",
    "from sklearn.model_selection import train_test_split\n",
    "from keras.layers import Convolution2D, Activation, Dropout, Conv2D\n",
    "from keras.layers import AveragePooling2D, BatchNormalization\n",
    "from keras.layers import GlobalAveragePooling2D\n",
    "from keras.layers import Flatten, Input, MaxPooling2D, SeparableConv2D\n",
    "from keras.models import Sequential, Model\n",
    "from keras import layers\n",
    "from keras.regularizers import l2\n",
    "import pandas as pd\n",
    "import cv2\n",
    "import numpy as np"
   ]
  },
  {
   "cell_type": "code",
   "execution_count": 28,
   "metadata": {},
   "outputs": [],
   "source": [
    "#parameters\n",
    "batch_size = 32\n",
    "num_epochs = 50\n",
    "input_shape = (48, 48, 1)\n",
    "verbose = 1\n",
    "num_classes = 7\n",
    "patience = 50\n",
    "base_path = '/home/sherlock/Rushi/EmotionRecognition'\n",
    "l2_regularization = 0.01"
   ]
  },
  {
   "cell_type": "code",
   "execution_count": 18,
   "metadata": {},
   "outputs": [],
   "source": [
    "data_generator = ImageDataGenerator(featurewise_center=False,\n",
    "                                   featurewise_std_normalization=False,\n",
    "                                   rotation_range=10,\n",
    "                                   width_shift_range=0.1,\n",
    "                                   height_shift_range=0.1,\n",
    "                                   zoom_range=.1,\n",
    "                                   horizontal_flip=True)"
   ]
  },
  {
   "cell_type": "code",
   "execution_count": 19,
   "metadata": {},
   "outputs": [],
   "source": [
    "regularization = l2(l2_regularization)"
   ]
  },
  {
   "cell_type": "code",
   "execution_count": 20,
   "metadata": {},
   "outputs": [],
   "source": [
    "#base\n",
    "img_input = Input(input_shape)\n",
    "x = Conv2D(8, (3, 3), strides=(1, 1), kernel_regularizer = regularization,\n",
    "          use_bias = False)(img_input)\n",
    "x = BatchNormalization()(x)\n",
    "x = Activation('relu')(x)\n",
    "x = Conv2D(8, (3, 3), strides=(1, 1), kernel_regularizer = regularization,\n",
    "          use_bias = False)(x)\n",
    "x = BatchNormalization()(x)\n",
    "x = Activation('relu')(x)"
   ]
  },
  {
   "cell_type": "code",
   "execution_count": 21,
   "metadata": {},
   "outputs": [],
   "source": [
    "#module 1\n",
    "residual = Conv2D(16, (1, 1), strides=(2, 2), padding='same', use_bias=False)(x)\n",
    "residual = BatchNormalization()(residual)\n",
    "x = SeparableConv2D(16,(3, 3), padding = 'same', kernel_regularizer=regularization, use_bias=False)(x)\n",
    "x = BatchNormalization()(x)\n",
    "x = Activation('relu')(x)\n",
    "x = SeparableConv2D(16,(3, 3), padding = 'same', kernel_regularizer=regularization, use_bias=False)(x)\n",
    "x = BatchNormalization()(x)\n",
    "x = MaxPooling2D((3, 3), strides = (2, 2), padding = 'same')(x)\n",
    "x = layers.add([x, residual])"
   ]
  },
  {
   "cell_type": "code",
   "execution_count": 22,
   "metadata": {},
   "outputs": [],
   "source": [
    "#module 2\n",
    "residual = Conv2D(32, (1, 1), strides=(2, 2), padding='same', use_bias=False)(x)\n",
    "residual = BatchNormalization()(residual)\n",
    "x = SeparableConv2D(32, (3, 3), padding = 'same', kernel_regularizer=regularization, use_bias=False)(x)\n",
    "x = BatchNormalization()(x)\n",
    "x = Activation('relu')(x)\n",
    "x = SeparableConv2D(32,(3, 3), padding = 'same', kernel_regularizer=regularization, use_bias=False)(x)\n",
    "x = BatchNormalization()(x)\n",
    "x = MaxPooling2D((3, 3), strides = (2, 2), padding = 'same')(x)\n",
    "x = layers.add([x, residual])"
   ]
  },
  {
   "cell_type": "code",
   "execution_count": 23,
   "metadata": {},
   "outputs": [],
   "source": [
    "#module 3\n",
    "residual = Conv2D(64, (1, 1), strides=(2, 2), padding='same', use_bias=False)(x)\n",
    "residual = BatchNormalization()(residual)\n",
    "x = SeparableConv2D(64, (3, 3), padding = 'same', kernel_regularizer=regularization, use_bias=False)(x)\n",
    "x = BatchNormalization()(x)\n",
    "x = Activation('relu')(x)\n",
    "x = SeparableConv2D(64,(3, 3), padding = 'same', kernel_regularizer=regularization, use_bias=False)(x)\n",
    "x = BatchNormalization()(x)\n",
    "x = MaxPooling2D((3, 3), strides = (2, 2), padding = 'same')(x)\n",
    "x = layers.add([x, residual])"
   ]
  },
  {
   "cell_type": "code",
   "execution_count": 24,
   "metadata": {},
   "outputs": [],
   "source": [
    "#module 4\n",
    "residual = Conv2D(128, (1, 1), strides=(2, 2), padding='same', use_bias=False)(x)\n",
    "residual = BatchNormalization()(residual)\n",
    "x = SeparableConv2D(128, (3, 3), padding = 'same', kernel_regularizer=regularization, use_bias=False)(x)\n",
    "x = BatchNormalization()(x)\n",
    "x = Activation('relu')(x)\n",
    "x = SeparableConv2D(128,(3, 3), padding = 'same', kernel_regularizer=regularization, use_bias=False)(x)\n",
    "x = BatchNormalization()(x)\n",
    "x = MaxPooling2D((3, 3), strides = (2, 2), padding = 'same')(x)\n",
    "x = layers.add([x, residual])\n",
    "x = Conv2D(num_classes, (3, 3), padding = 'same')(x)\n",
    "x = GlobalAveragePooling2D()(x)\n",
    "output = Activation('softmax', name = 'predictions')(x)"
   ]
  },
  {
   "cell_type": "code",
   "execution_count": 25,
   "metadata": {},
   "outputs": [],
   "source": [
    "model = Model(img_input, output)\n",
    "model.compile(optimizer = 'adam', loss = 'categorical_crossentropy',\n",
    "             metrics = ['accuracy'])\n"
   ]
  },
  {
   "cell_type": "code",
   "execution_count": 33,
   "metadata": {},
   "outputs": [],
   "source": [
    "#callbacks\n",
    "log_file_path = base_path + 'emotion_training.log'\n",
    "csv_logger = CSVLogger(log_file_path, append=False)\n",
    "early_stop = EarlyStopping('val_loss', patience=patience)\n",
    "reduce_lr = ReduceLROnPlateau('val_loss', factor=0.1, patience=int(patience/4), verbose=1)\n",
    "trained_models_path = base_path + '_mini_XCEPTION'\n",
    "model_names = trained_models_path + '.{epoch:02d}-{val_acc:.2f}.hdf5'\n",
    "model_checkpoint = ModelCheckpoint(model_names, 'val_loss', verbose=1,save_best_only=True)\n",
    "callbacks = [model_checkpoint, csv_logger, early_stop, reduce_lr]"
   ]
  },
  {
   "cell_type": "code",
   "execution_count": 34,
   "metadata": {},
   "outputs": [
    {
     "name": "stdout",
     "output_type": "stream",
     "text": [
      "Epoch 1/50\n",
      "898/897 [==============================] - 258s 287ms/step - loss: 1.7601 - acc: 0.3375 - val_loss: 1.8866 - val_acc: 0.2999\n",
      "\n",
      "Epoch 00001: val_loss improved from inf to 1.88665, saving model to /home/sherlock/Rushi/EmotionRecognition_mini_XCEPTION.01-0.30.hdf5\n",
      "Epoch 2/50\n",
      "898/897 [==============================] - 254s 282ms/step - loss: 1.5183 - acc: 0.4285 - val_loss: 1.6117 - val_acc: 0.3810\n",
      "\n",
      "Epoch 00002: val_loss improved from 1.88665 to 1.61167, saving model to /home/sherlock/Rushi/EmotionRecognition_mini_XCEPTION.02-0.38.hdf5\n",
      "Epoch 3/50\n",
      "898/897 [==============================] - 222s 247ms/step - loss: 1.4230 - acc: 0.4696 - val_loss: 1.3543 - val_acc: 0.4974\n",
      "\n",
      "Epoch 00003: val_loss improved from 1.61167 to 1.35432, saving model to /home/sherlock/Rushi/EmotionRecognition_mini_XCEPTION.03-0.50.hdf5\n",
      "Epoch 4/50\n",
      "898/897 [==============================] - 190s 212ms/step - loss: 1.3453 - acc: 0.4959 - val_loss: 1.5183 - val_acc: 0.4380\n",
      "\n",
      "Epoch 00004: val_loss did not improve from 1.35432\n",
      "Epoch 5/50\n",
      "898/897 [==============================] - 190s 211ms/step - loss: 1.2897 - acc: 0.5148 - val_loss: 1.3557 - val_acc: 0.4921\n",
      "\n",
      "Epoch 00005: val_loss did not improve from 1.35432\n",
      "Epoch 6/50\n",
      "898/897 [==============================] - 189s 211ms/step - loss: 1.2534 - acc: 0.5294 - val_loss: 1.3370 - val_acc: 0.5163\n",
      "\n",
      "Epoch 00006: val_loss improved from 1.35432 to 1.33700, saving model to /home/sherlock/Rushi/EmotionRecognition_mini_XCEPTION.06-0.52.hdf5\n",
      "Epoch 7/50\n",
      "898/897 [==============================] - 189s 211ms/step - loss: 1.2214 - acc: 0.5462 - val_loss: 1.2347 - val_acc: 0.5401\n",
      "\n",
      "Epoch 00007: val_loss improved from 1.33700 to 1.23467, saving model to /home/sherlock/Rushi/EmotionRecognition_mini_XCEPTION.07-0.54.hdf5\n",
      "Epoch 8/50\n",
      "898/897 [==============================] - 189s 211ms/step - loss: 1.1935 - acc: 0.5510 - val_loss: 1.3502 - val_acc: 0.4960\n",
      "\n",
      "Epoch 00008: val_loss did not improve from 1.23467\n",
      "Epoch 9/50\n",
      "898/897 [==============================] - 190s 211ms/step - loss: 1.1772 - acc: 0.5612 - val_loss: 1.2775 - val_acc: 0.5293\n",
      "\n",
      "Epoch 00009: val_loss did not improve from 1.23467\n",
      "Epoch 10/50\n",
      "898/897 [==============================] - 867s 965ms/step - loss: 1.1526 - acc: 0.5681 - val_loss: 1.3030 - val_acc: 0.5163\n",
      "\n",
      "Epoch 00010: val_loss did not improve from 1.23467\n",
      "Epoch 11/50\n",
      "898/897 [==============================] - 201s 224ms/step - loss: 1.1458 - acc: 0.5749 - val_loss: 1.2192 - val_acc: 0.5528\n",
      "\n",
      "Epoch 00011: val_loss improved from 1.23467 to 1.21920, saving model to /home/sherlock/Rushi/EmotionRecognition_mini_XCEPTION.11-0.55.hdf5\n",
      "Epoch 12/50\n",
      "898/897 [==============================] - 202s 225ms/step - loss: 1.1314 - acc: 0.5774 - val_loss: 1.1923 - val_acc: 0.5524\n",
      "\n",
      "Epoch 00012: val_loss improved from 1.21920 to 1.19227, saving model to /home/sherlock/Rushi/EmotionRecognition_mini_XCEPTION.12-0.55.hdf5\n",
      "Epoch 13/50\n",
      "898/897 [==============================] - 204s 228ms/step - loss: 1.1177 - acc: 0.5823 - val_loss: 1.2969 - val_acc: 0.5301\n",
      "\n",
      "Epoch 00013: val_loss did not improve from 1.19227\n",
      "Epoch 14/50\n",
      "898/897 [==============================] - 202s 225ms/step - loss: 1.1048 - acc: 0.5854 - val_loss: 1.1522 - val_acc: 0.5740\n",
      "\n",
      "Epoch 00014: val_loss improved from 1.19227 to 1.15221, saving model to /home/sherlock/Rushi/EmotionRecognition_mini_XCEPTION.14-0.57.hdf5\n",
      "Epoch 15/50\n",
      "898/897 [==============================] - 201s 223ms/step - loss: 1.0995 - acc: 0.5888 - val_loss: 1.1526 - val_acc: 0.5621\n",
      "\n",
      "Epoch 00015: val_loss did not improve from 1.15221\n",
      "Epoch 16/50\n",
      "898/897 [==============================] - 206s 229ms/step - loss: 1.0879 - acc: 0.5957 - val_loss: 1.1517 - val_acc: 0.5683\n",
      "\n",
      "Epoch 00016: val_loss improved from 1.15221 to 1.15169, saving model to /home/sherlock/Rushi/EmotionRecognition_mini_XCEPTION.16-0.57.hdf5\n",
      "Epoch 17/50\n",
      "898/897 [==============================] - 206s 229ms/step - loss: 1.0830 - acc: 0.5974 - val_loss: 1.2550 - val_acc: 0.5346\n",
      "\n",
      "Epoch 00017: val_loss did not improve from 1.15169\n",
      "Epoch 18/50\n",
      "898/897 [==============================] - 233s 260ms/step - loss: 1.0720 - acc: 0.6006 - val_loss: 1.1361 - val_acc: 0.5780\n",
      "\n",
      "Epoch 00018: val_loss improved from 1.15169 to 1.13606, saving model to /home/sherlock/Rushi/EmotionRecognition_mini_XCEPTION.18-0.58.hdf5\n",
      "Epoch 19/50\n",
      "898/897 [==============================] - 286s 319ms/step - loss: 1.0627 - acc: 0.6015 - val_loss: 1.1564 - val_acc: 0.5726\n",
      "\n",
      "Epoch 00019: val_loss did not improve from 1.13606\n",
      "Epoch 20/50\n",
      "898/897 [==============================] - 271s 301ms/step - loss: 1.0559 - acc: 0.6065 - val_loss: 1.1264 - val_acc: 0.5797\n",
      "\n",
      "Epoch 00020: val_loss improved from 1.13606 to 1.12638, saving model to /home/sherlock/Rushi/EmotionRecognition_mini_XCEPTION.20-0.58.hdf5\n",
      "Epoch 21/50\n",
      "898/897 [==============================] - 203s 226ms/step - loss: 1.0473 - acc: 0.6084 - val_loss: 1.1326 - val_acc: 0.5854\n",
      "\n",
      "Epoch 00021: val_loss did not improve from 1.12638\n",
      "Epoch 22/50\n",
      "898/897 [==============================] - 201s 224ms/step - loss: 1.0470 - acc: 0.6072 - val_loss: 1.0917 - val_acc: 0.5992\n",
      "\n",
      "Epoch 00022: val_loss improved from 1.12638 to 1.09166, saving model to /home/sherlock/Rushi/EmotionRecognition_mini_XCEPTION.22-0.60.hdf5\n",
      "Epoch 23/50\n",
      "898/897 [==============================] - 208s 232ms/step - loss: 1.0372 - acc: 0.6156 - val_loss: 1.1167 - val_acc: 0.5795\n",
      "\n",
      "Epoch 00023: val_loss did not improve from 1.09166\n",
      "Epoch 24/50\n",
      "898/897 [==============================] - 210s 234ms/step - loss: 1.0352 - acc: 0.6122 - val_loss: 1.0728 - val_acc: 0.6006\n",
      "\n",
      "Epoch 00024: val_loss improved from 1.09166 to 1.07275, saving model to /home/sherlock/Rushi/EmotionRecognition_mini_XCEPTION.24-0.60.hdf5\n",
      "Epoch 25/50\n",
      "898/897 [==============================] - 207s 231ms/step - loss: 1.0292 - acc: 0.6164 - val_loss: 1.1050 - val_acc: 0.5964\n",
      "\n",
      "Epoch 00025: val_loss did not improve from 1.07275\n",
      "Epoch 26/50\n",
      "898/897 [==============================] - 208s 232ms/step - loss: 1.0223 - acc: 0.6187 - val_loss: 1.1840 - val_acc: 0.5592\n",
      "\n",
      "Epoch 00026: val_loss did not improve from 1.07275\n",
      "Epoch 27/50\n",
      "898/897 [==============================] - 210s 234ms/step - loss: 1.0196 - acc: 0.6195 - val_loss: 1.0994 - val_acc: 0.5931\n",
      "\n",
      "Epoch 00027: val_loss did not improve from 1.07275\n",
      "Epoch 28/50\n",
      "898/897 [==============================] - 207s 231ms/step - loss: 1.0135 - acc: 0.6234 - val_loss: 1.1212 - val_acc: 0.5894\n",
      "\n",
      "Epoch 00028: val_loss did not improve from 1.07275\n",
      "Epoch 29/50\n",
      "898/897 [==============================] - 206s 229ms/step - loss: 1.0105 - acc: 0.6199 - val_loss: 1.0868 - val_acc: 0.6002\n",
      "\n",
      "Epoch 00029: val_loss did not improve from 1.07275\n",
      "Epoch 30/50\n",
      "898/897 [==============================] - 213s 237ms/step - loss: 1.0075 - acc: 0.6250 - val_loss: 1.1019 - val_acc: 0.5926\n",
      "\n",
      "Epoch 00030: val_loss did not improve from 1.07275\n",
      "Epoch 31/50\n",
      "898/897 [==============================] - 211s 235ms/step - loss: 1.0039 - acc: 0.6265 - val_loss: 1.1096 - val_acc: 0.5894\n",
      "\n",
      "Epoch 00031: val_loss did not improve from 1.07275\n",
      "Epoch 32/50\n",
      "898/897 [==============================] - 211s 234ms/step - loss: 0.9977 - acc: 0.6298 - val_loss: 1.0944 - val_acc: 0.5892\n",
      "\n",
      "Epoch 00032: val_loss did not improve from 1.07275\n",
      "Epoch 33/50\n",
      "898/897 [==============================] - 201s 223ms/step - loss: 0.9935 - acc: 0.6304 - val_loss: 1.0605 - val_acc: 0.6087\n",
      "\n",
      "Epoch 00033: val_loss improved from 1.07275 to 1.06048, saving model to /home/sherlock/Rushi/EmotionRecognition_mini_XCEPTION.33-0.61.hdf5\n",
      "Epoch 34/50\n",
      "898/897 [==============================] - 207s 231ms/step - loss: 0.9855 - acc: 0.6336 - val_loss: 1.0654 - val_acc: 0.6102\n",
      "\n",
      "Epoch 00034: val_loss did not improve from 1.06048\n",
      "Epoch 35/50\n",
      "898/897 [==============================] - 211s 235ms/step - loss: 0.9878 - acc: 0.6306 - val_loss: 1.0793 - val_acc: 0.6057\n",
      "\n",
      "Epoch 00035: val_loss did not improve from 1.06048\n",
      "Epoch 36/50\n",
      "898/897 [==============================] - 198s 220ms/step - loss: 0.9831 - acc: 0.6330 - val_loss: 1.0583 - val_acc: 0.6099\n",
      "\n",
      "Epoch 00036: val_loss improved from 1.06048 to 1.05830, saving model to /home/sherlock/Rushi/EmotionRecognition_mini_XCEPTION.36-0.61.hdf5\n",
      "Epoch 37/50\n",
      "898/897 [==============================] - 199s 222ms/step - loss: 0.9862 - acc: 0.6341 - val_loss: 1.0699 - val_acc: 0.6027\n",
      "\n",
      "Epoch 00037: val_loss did not improve from 1.05830\n",
      "Epoch 38/50\n",
      "898/897 [==============================] - 200s 223ms/step - loss: 0.9759 - acc: 0.6344 - val_loss: 1.0979 - val_acc: 0.5910\n",
      "\n",
      "Epoch 00038: val_loss did not improve from 1.05830\n",
      "Epoch 39/50\n",
      "898/897 [==============================] - 202s 225ms/step - loss: 0.9737 - acc: 0.6390 - val_loss: 1.0994 - val_acc: 0.5900\n",
      "\n",
      "Epoch 00039: val_loss did not improve from 1.05830\n",
      "Epoch 40/50\n",
      "898/897 [==============================] - 208s 231ms/step - loss: 0.9732 - acc: 0.6383 - val_loss: 1.0754 - val_acc: 0.5971\n",
      "\n",
      "Epoch 00040: val_loss did not improve from 1.05830\n",
      "Epoch 41/50\n",
      "898/897 [==============================] - 214s 239ms/step - loss: 0.9679 - acc: 0.6347 - val_loss: 1.0537 - val_acc: 0.6113\n",
      "\n",
      "Epoch 00041: val_loss improved from 1.05830 to 1.05367, saving model to /home/sherlock/Rushi/EmotionRecognition_mini_XCEPTION.41-0.61.hdf5\n",
      "Epoch 42/50\n",
      "898/897 [==============================] - 204s 227ms/step - loss: 0.9712 - acc: 0.6366 - val_loss: 1.0717 - val_acc: 0.6141\n",
      "\n",
      "Epoch 00042: val_loss did not improve from 1.05367\n",
      "Epoch 43/50\n",
      "898/897 [==============================] - 199s 221ms/step - loss: 0.9674 - acc: 0.6400 - val_loss: 1.0564 - val_acc: 0.6169\n",
      "\n",
      "Epoch 00043: val_loss did not improve from 1.05367\n",
      "Epoch 44/50\n",
      "898/897 [==============================] - 208s 232ms/step - loss: 0.9597 - acc: 0.6421 - val_loss: 1.0419 - val_acc: 0.6144\n",
      "\n",
      "Epoch 00044: val_loss improved from 1.05367 to 1.04186, saving model to /home/sherlock/Rushi/EmotionRecognition_mini_XCEPTION.44-0.61.hdf5\n",
      "Epoch 45/50\n",
      "898/897 [==============================] - 209s 232ms/step - loss: 0.9581 - acc: 0.6401 - val_loss: 1.0607 - val_acc: 0.6088\n",
      "\n",
      "Epoch 00045: val_loss did not improve from 1.04186\n",
      "Epoch 46/50\n",
      "898/897 [==============================] - 209s 232ms/step - loss: 0.9645 - acc: 0.6406 - val_loss: 1.0642 - val_acc: 0.6066\n",
      "\n",
      "Epoch 00046: val_loss did not improve from 1.04186\n",
      "Epoch 47/50\n",
      "898/897 [==============================] - 209s 233ms/step - loss: 0.9446 - acc: 0.6499 - val_loss: 1.1170 - val_acc: 0.5954\n",
      "\n",
      "Epoch 00047: val_loss did not improve from 1.04186\n",
      "Epoch 48/50\n",
      "898/897 [==============================] - 209s 233ms/step - loss: 0.9448 - acc: 0.6517 - val_loss: 1.0666 - val_acc: 0.6053\n",
      "\n",
      "Epoch 00048: val_loss did not improve from 1.04186\n",
      "Epoch 49/50\n",
      "898/897 [==============================] - 207s 231ms/step - loss: 0.9514 - acc: 0.6483 - val_loss: 1.0529 - val_acc: 0.6163\n",
      "\n",
      "Epoch 00049: val_loss did not improve from 1.04186\n",
      "Epoch 50/50\n",
      "898/897 [==============================] - 212s 236ms/step - loss: 0.9501 - acc: 0.6462 - val_loss: 1.0679 - val_acc: 0.6186\n",
      "\n",
      "Epoch 00050: val_loss did not improve from 1.04186\n"
     ]
    },
    {
     "data": {
      "text/plain": [
       "<keras.callbacks.History at 0x7f07447ee080>"
      ]
     },
     "execution_count": 34,
     "metadata": {},
     "output_type": "execute_result"
    }
   ],
   "source": [
    "model.fit_generator(data_generator.flow(xtrain, ytrain,batch_size),\n",
    "                        steps_per_epoch=len(xtrain) / batch_size,\n",
    "                        epochs=num_epochs, verbose=1, callbacks=callbacks,\n",
    "                        validation_data=(xtest,ytest))"
   ]
  },
  {
   "cell_type": "code",
   "execution_count": 3,
   "metadata": {},
   "outputs": [
    {
     "name": "stdout",
     "output_type": "stream",
     "text": [
      "Collecting imutils\n",
      "  Downloading https://files.pythonhosted.org/packages/b5/94/46dcae8c061e28be31bcaa55c560cb30ee9403c9a4bb2659768ec1b9eb7d/imutils-0.5.3.tar.gz\n",
      "Building wheels for collected packages: imutils\n",
      "  Building wheel for imutils (setup.py) ... \u001b[?25ldone\n",
      "\u001b[?25h  Created wheel for imutils: filename=imutils-0.5.3-cp36-none-any.whl size=26734 sha256=c752df11f61ea647ba2c63438759ec58ed73a2f5b4dbf6ad08e283e022373d79\n",
      "  Stored in directory: /home/sherlock/.cache/pip/wheels/16/84/1f/bf88641293cda2c8be81a5c4b8ca973dd9125a6dc3767417fd\n",
      "Successfully built imutils\n",
      "Installing collected packages: imutils\n",
      "Successfully installed imutils-0.5.3\n"
     ]
    }
   ],
   "source": [
    "!pip3 install --user imutils"
   ]
  },
  {
   "cell_type": "code",
   "execution_count": 4,
   "metadata": {},
   "outputs": [],
   "source": [
    "from keras.preprocessing.image import img_to_array\n",
    "from keras.models import load_model\n",
    "import imutils\n",
    "import cv2\n",
    "import numpy as np\n",
    "import sys"
   ]
  },
  {
   "cell_type": "code",
   "execution_count": 5,
   "metadata": {},
   "outputs": [],
   "source": [
    "detection_model_path = 'haarcascade_frontalface_default.xml'\n",
    "emotion_model_path = 'EmotionRecognition_mini_XCEPTION.44-0.61.hdf5'\n",
    "img_path = sys.argv[1]"
   ]
  },
  {
   "cell_type": "code",
   "execution_count": 7,
   "metadata": {},
   "outputs": [],
   "source": [
    "face_detection = cv2.CascadeClassifier(detection_model_path)\n",
    "emotion_classifier = load_model(emotion_model_path, compile = False)\n",
    "EMOTIONS = [\"angry\",\"disgust\", \"scared\", \"happy\", \"sad\", \"surprised\", \"neutral\"]"
   ]
  },
  {
   "cell_type": "code",
   "execution_count": 9,
   "metadata": {},
   "outputs": [],
   "source": [
    "#Reading the frame\n",
    "orig_frame = cv2.imread(img_path)\n",
    "frame = cv2.imread(img_path, 0)\n",
    "faces = face_detection.detectMultiScale(frame, scaleFactor=1.1,\n",
    "                                          minNeighbors = 5, minSize = (30, 30),\n",
    "                                          flags = cv2.CASCADE_SCALE_IMAGE)"
   ]
  },
  {
   "cell_type": "code",
   "execution_count": 15,
   "metadata": {},
   "outputs": [
    {
     "ename": "error",
     "evalue": "OpenCV(3.4.4) /io/opencv/modules/highgui/src/window.cpp:356: error: (-215:Assertion failed) size.width>0 && size.height>0 in function 'imshow'\n",
     "output_type": "error",
     "traceback": [
      "\u001b[0;31m---------------------------------------------------------------------------\u001b[0m",
      "\u001b[0;31merror\u001b[0m                                     Traceback (most recent call last)",
      "\u001b[0;32m<ipython-input-15-6eba6b8e6acc>\u001b[0m in \u001b[0;36m<module>\u001b[0;34m\u001b[0m\n\u001b[1;32m     13\u001b[0m     \u001b[0mcv2\u001b[0m\u001b[0;34m.\u001b[0m\u001b[0mrectangle\u001b[0m\u001b[0;34m(\u001b[0m\u001b[0morig_frame\u001b[0m\u001b[0;34m,\u001b[0m \u001b[0;34m(\u001b[0m\u001b[0mfX\u001b[0m\u001b[0;34m,\u001b[0m \u001b[0mfY\u001b[0m\u001b[0;34m)\u001b[0m\u001b[0;34m,\u001b[0m \u001b[0;34m(\u001b[0m\u001b[0mfX\u001b[0m \u001b[0;34m+\u001b[0m \u001b[0mfW\u001b[0m\u001b[0;34m,\u001b[0m \u001b[0mfY\u001b[0m \u001b[0;34m+\u001b[0m \u001b[0mfH\u001b[0m\u001b[0;34m)\u001b[0m\u001b[0;34m,\u001b[0m\u001b[0;34m(\u001b[0m\u001b[0;36m0\u001b[0m\u001b[0;34m,\u001b[0m \u001b[0;36m0\u001b[0m\u001b[0;34m,\u001b[0m \u001b[0;36m255\u001b[0m\u001b[0;34m)\u001b[0m\u001b[0;34m,\u001b[0m \u001b[0;36m2\u001b[0m\u001b[0;34m)\u001b[0m\u001b[0;34m\u001b[0m\u001b[0;34m\u001b[0m\u001b[0m\n\u001b[1;32m     14\u001b[0m \u001b[0;34m\u001b[0m\u001b[0m\n\u001b[0;32m---> 15\u001b[0;31m \u001b[0mcv2\u001b[0m\u001b[0;34m.\u001b[0m\u001b[0mimshow\u001b[0m\u001b[0;34m(\u001b[0m\u001b[0;34m'test_face'\u001b[0m\u001b[0;34m,\u001b[0m \u001b[0morig_frame\u001b[0m\u001b[0;34m)\u001b[0m\u001b[0;34m\u001b[0m\u001b[0;34m\u001b[0m\u001b[0m\n\u001b[0m\u001b[1;32m     16\u001b[0m \u001b[0mcv2\u001b[0m\u001b[0;34m.\u001b[0m\u001b[0mimwrite\u001b[0m\u001b[0;34m(\u001b[0m\u001b[0;34m'test_output/'\u001b[0m \u001b[0;34m+\u001b[0m \u001b[0mimg_path\u001b[0m\u001b[0;34m.\u001b[0m\u001b[0msplit\u001b[0m\u001b[0;34m(\u001b[0m\u001b[0;34m'/'\u001b[0m\u001b[0;34m)\u001b[0m\u001b[0;34m[\u001b[0m\u001b[0;34m-\u001b[0m\u001b[0;36m1\u001b[0m\u001b[0;34m]\u001b[0m\u001b[0;34m,\u001b[0m \u001b[0morig_frame\u001b[0m\u001b[0;34m)\u001b[0m\u001b[0;34m\u001b[0m\u001b[0;34m\u001b[0m\u001b[0m\n\u001b[1;32m     17\u001b[0m \u001b[0;32mif\u001b[0m \u001b[0;34m(\u001b[0m\u001b[0mcv2\u001b[0m\u001b[0;34m.\u001b[0m\u001b[0mwaitKey\u001b[0m\u001b[0;34m(\u001b[0m\u001b[0;36m2000\u001b[0m\u001b[0;34m)\u001b[0m \u001b[0;34m&\u001b[0m \u001b[0;36m0xFF\u001b[0m \u001b[0;34m==\u001b[0m \u001b[0mord\u001b[0m\u001b[0;34m(\u001b[0m\u001b[0;34m'q'\u001b[0m\u001b[0;34m)\u001b[0m\u001b[0;34m)\u001b[0m\u001b[0;34m:\u001b[0m\u001b[0;34m\u001b[0m\u001b[0;34m\u001b[0m\u001b[0m\n",
      "\u001b[0;31merror\u001b[0m: OpenCV(3.4.4) /io/opencv/modules/highgui/src/window.cpp:356: error: (-215:Assertion failed) size.width>0 && size.height>0 in function 'imshow'\n"
     ]
    }
   ],
   "source": [
    "if len(faces) > 0:\n",
    "    faces = sorted(faces, reverse=True, key=lambda x: (x[2] - x[0]) * (x[3] - x[1]))[0]\n",
    "    (fX, fY, fW, fH) = faces\n",
    "    roi = frame[fY:fY + fH, fX:fX + fW]\n",
    "    roi = cv2.resize(roi, (48,48))\n",
    "    roi = roi.astype(\"float\")/ 255.0\n",
    "    roi = img_to_array(roi)\n",
    "    roi = np.expand_dims(roi, axis=0)\n",
    "    preds = emotion_classifier.predict(roi)[0]\n",
    "    emotion_probability = np.max(preds)\n",
    "    label = EMOTIONS[preds.argmax()]\n",
    "    cv2.putText(orig_frame, label, (fX, fY-10), cv2.FONT_HASHEY_SIMPLEX, 0.45, (0, 0, 255), 2)\n",
    "    cv2.rectangle(orig_frame, (fX, fY), (fX + fW, fY + fH),(0, 0, 255), 2)\n",
    "    \n",
    "cv2.imshow('test_face', orig_frame)\n",
    "cv2.imwrite('test_output/' + img_path.split('/')[-1], orig_frame)\n",
    "if (cv2.waitKey(2000) & 0xFF == ord('q')):\n",
    "    sus.exit(\"Thanks\")\n",
    "cv2.destroyAllWindows()"
   ]
  },
  {
   "cell_type": "code",
   "execution_count": null,
   "metadata": {},
   "outputs": [],
   "source": []
  }
 ],
 "metadata": {
  "kernelspec": {
   "display_name": "Python 3",
   "language": "python",
   "name": "python3"
  },
  "language_info": {
   "codemirror_mode": {
    "name": "ipython",
    "version": 3
   },
   "file_extension": ".py",
   "mimetype": "text/x-python",
   "name": "python",
   "nbconvert_exporter": "python",
   "pygments_lexer": "ipython3",
   "version": "3.6.8"
  }
 },
 "nbformat": 4,
 "nbformat_minor": 2
}
